{
 "cells": [
  {
   "cell_type": "code",
   "execution_count": null,
   "id": "58e63400",
   "metadata": {},
   "outputs": [],
   "source": [
    "from llama_cloud_services import LlamaExtract\n",
    "from dotenv import load_dotenv\n",
    "import datetime\n",
    "import calendar\n",
    "from dateutil.relativedelta import relativedelta\n",
    "\n",
    "from schemas import ExtractionSchema, Profile, RecurringCashFlow\n",
    "\n",
    "from common.utils import age_to_date"
   ]
  },
  {
   "cell_type": "code",
   "execution_count": 2,
   "id": "ec974d9b",
   "metadata": {},
   "outputs": [],
   "source": [
    "load_dotenv()\n",
    "extractor = LlamaExtract()"
   ]
  },
  {
   "cell_type": "code",
   "execution_count": 3,
   "id": "c735eb75",
   "metadata": {},
   "outputs": [],
   "source": [
    "profiles = []\n",
    "incomes = []\n",
    "expenses = []\n",
    "\n",
    "user_id = 1"
   ]
  },
  {
   "cell_type": "code",
   "execution_count": 4,
   "id": "872feaa5",
   "metadata": {},
   "outputs": [],
   "source": [
    "\n",
    "agent = extractor.create_agent(name='parser', data_schema=ExtractionSchema)\n"
   ]
  },
  {
   "cell_type": "code",
   "execution_count": 5,
   "id": "c4c4c562",
   "metadata": {},
   "outputs": [],
   "source": [
    "# agent = extractor.get_agent(name='income-parser')"
   ]
  },
  {
   "cell_type": "code",
   "execution_count": 6,
   "id": "8c32fa13",
   "metadata": {},
   "outputs": [
    {
     "name": "stderr",
     "output_type": "stream",
     "text": [
      "Uploading files: 100%|██████████| 1/1 [00:01<00:00,  1.40s/it]\n",
      "Creating extraction jobs: 100%|██████████| 1/1 [00:00<00:00,  1.34it/s]\n",
      "Extracting files: 100%|██████████| 1/1 [00:03<00:00,  3.21s/it]\n"
     ]
    }
   ],
   "source": [
    "extracted_incomes = agent.extract(\"financial_adviser_client_conversation.txt\")"
   ]
  },
  {
   "cell_type": "code",
   "execution_count": 7,
   "id": "e2c504eb",
   "metadata": {},
   "outputs": [
    {
     "data": {
      "text/plain": [
       "{'name': 'Andrea',\n",
       " 'age': 42.0,\n",
       " 'retirement_age': 65.0,\n",
       " 'current_portfolio_value': 120000.0,\n",
       " 'income_source': ['Salary (marketing manager)', 'Rental income'],\n",
       " 'income_amount': [7916.67, 1000.0],\n",
       " 'income_start_age': [42, 42],\n",
       " 'income_end_age': [65, 65],\n",
       " 'expense_name': ['Total monthly expenses'],\n",
       " 'expense_amount': [4500.0],\n",
       " 'expense_start_age': [42],\n",
       " 'expense_end_age': [100]}"
      ]
     },
     "execution_count": 7,
     "metadata": {},
     "output_type": "execute_result"
    }
   ],
   "source": [
    "data = extracted_incomes.data\n",
    "data"
   ]
  },
  {
   "cell_type": "code",
   "execution_count": null,
   "id": "0be4bf61",
   "metadata": {},
   "outputs": [],
   "source": [
    "profile = {\n",
    "    'id': user_id,\n",
    "    'name': data['name'],\n",
    "    'age': data['age'],\n",
    "    'retirement_age': data['retirement_age'],\n",
    "    'current_portfolio_value': data['current_portfolio_value']\n",
    "}\n",
    "\n",
    "incomes = [\n",
    "    {\n",
    "        'profile': user_id,\n",
    "        'source': data['income_source'][i],\n",
    "        'amount': data['income_amount'][i],\n",
    "        'start_date': age_to_date(data['age'], data['income_start_age'][i]),\n",
    "        'end_date': age_to_date(data['age'], data['income_end_age'][i]),\n",
    "    }\n",
    "    for i in range(len(data['income_source']))\n",
    "]\n",
    "\n",
    "expenses = [\n",
    "    {\n",
    "        'profile': user_id,\n",
    "        'name': data['expense_name'][i],\n",
    "        'amount': data['expense_amount'][i],\n",
    "        'start_date': age_to_date(data['age'], data['expense_start_age'][i]),\n",
    "        'end_date': age_to_date(data['age'], data['expense_start_age'][i]),\n",
    "    }\n",
    "    for i in range(len(data['expense_name']))\n",
    "]"
   ]
  },
  {
   "cell_type": "code",
   "execution_count": 20,
   "id": "35a3e7ba",
   "metadata": {},
   "outputs": [
    {
     "data": {
      "text/plain": [
       "{'id': 1,\n",
       " 'name': 'Andrea',\n",
       " 'age': 42.0,\n",
       " 'retirement_age': 65.0,\n",
       " 'current_portfolio_value': 120000.0}"
      ]
     },
     "execution_count": 20,
     "metadata": {},
     "output_type": "execute_result"
    }
   ],
   "source": [
    "profile"
   ]
  },
  {
   "cell_type": "code",
   "execution_count": 21,
   "id": "9507fac8",
   "metadata": {},
   "outputs": [
    {
     "data": {
      "text/plain": [
       "[{'profile': 1,\n",
       "  'source': 'Salary (marketing manager)',\n",
       "  'amount': 7916.67,\n",
       "  'start_date': datetime.date(2025, 10, 31),\n",
       "  'end_date': datetime.date(2048, 10, 31)},\n",
       " {'profile': 1,\n",
       "  'source': 'Rental income',\n",
       "  'amount': 1000.0,\n",
       "  'start_date': datetime.date(2025, 10, 31),\n",
       "  'end_date': datetime.date(2048, 10, 31)}]"
      ]
     },
     "execution_count": 21,
     "metadata": {},
     "output_type": "execute_result"
    }
   ],
   "source": [
    "incomes"
   ]
  },
  {
   "cell_type": "code",
   "execution_count": 17,
   "id": "a0c47036",
   "metadata": {},
   "outputs": [
    {
     "data": {
      "text/plain": [
       "[{'name': 'Total monthly expenses',\n",
       "  'amount': 4500.0,\n",
       "  'start_date': datetime.date(2025, 10, 31),\n",
       "  'end_date': datetime.date(2025, 10, 31)}]"
      ]
     },
     "execution_count": 17,
     "metadata": {},
     "output_type": "execute_result"
    }
   ],
   "source": [
    "expenses"
   ]
  },
  {
   "cell_type": "code",
   "execution_count": 10,
   "id": "996d4259",
   "metadata": {},
   "outputs": [
    {
     "data": {
      "text/plain": [
       "[{'source': 'Salary (Marketing Manager)',\n",
       "  'amount': 7916.67,\n",
       "  'start_date': '',\n",
       "  'end_date': ''},\n",
       " {'source': 'Rental Property',\n",
       "  'amount': 1000.0,\n",
       "  'start_date': '',\n",
       "  'end_date': ''}]"
      ]
     },
     "execution_count": 10,
     "metadata": {},
     "output_type": "execute_result"
    }
   ],
   "source": [
    "income_objs"
   ]
  },
  {
   "cell_type": "code",
   "execution_count": null,
   "id": "6288d2cd",
   "metadata": {},
   "outputs": [],
   "source": []
  }
 ],
 "metadata": {
  "kernelspec": {
   "display_name": "venv",
   "language": "python",
   "name": "python3"
  },
  "language_info": {
   "codemirror_mode": {
    "name": "ipython",
    "version": 3
   },
   "file_extension": ".py",
   "mimetype": "text/x-python",
   "name": "python",
   "nbconvert_exporter": "python",
   "pygments_lexer": "ipython3",
   "version": "3.12.7"
  }
 },
 "nbformat": 4,
 "nbformat_minor": 5
}
